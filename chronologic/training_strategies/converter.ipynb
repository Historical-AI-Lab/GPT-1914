{
 "cells": [
  {
   "cell_type": "code",
   "execution_count": 14,
   "id": "1f19b875",
   "metadata": {},
   "outputs": [
    {
     "name": "stdout",
     "output_type": "stream",
     "text": [
      "   chunk_id                                            passage motive_yn  \\\n",
      "0         0  ﻿The Project Gutenberg eBook of Simon\\n    \\nT...         n   \n",
      "1         1  The Yarn                                      ...         y   \n",
      "2         2  Even as they were slowing down, he fell\\non hi...         n   \n",
      "3         3  \"It doesn't seem to have changed much,\" said t...         y   \n",
      "4         4  Professionally, he was lawyer to several of th...         n   \n",
      "\n",
      "                                       motive               character  \\\n",
      "0                                                                       \n",
      "1  singularly strong inclination for solitude  the solitary passenger   \n",
      "2                                                                       \n",
      "3                           very thoughtfully              Mr. Rattar   \n",
      "4                                                                       \n",
      "\n",
      "                                            behavior  \n",
      "0                                                     \n",
      "1  He moved to an empty carriage and chose a comp...  \n",
      "2                                                     \n",
      "3  He stood for a minute or two at the window gaz...  \n",
      "4                                                     \n"
     ]
    }
   ],
   "source": [
    "import json\n",
    "import pandas as pd\n",
    "\n",
    "# Read in a JSON file and transform it into a DataFrame\n",
    "filename = '26306-motive-analysis.json'\n",
    "\n",
    "with open(filename, 'r') as file:\n",
    "    data = json.load(file)\n",
    "df = pd.json_normalize(data['results'])\n",
    "print(df.head())"
   ]
  },
  {
   "cell_type": "code",
   "execution_count": 15,
   "id": "886f4898",
   "metadata": {},
   "outputs": [
    {
     "name": "stdout",
     "output_type": "stream",
     "text": [
      "dict_keys(['source_chunks_file', 'model_used', 'total_chunks', 'motive_chunks', 'results'])\n",
      "gpt-oss:20b\n"
     ]
    }
   ],
   "source": [
    "# print keys in data\n",
    "print(data.keys())\n",
    "print(data['model_used'])"
   ]
  },
  {
   "cell_type": "code",
   "execution_count": 7,
   "id": "031a7c8c",
   "metadata": {},
   "outputs": [],
   "source": [
    "# add two new columns to df ('is_motive' and 'is_useful')\n",
    "# they can all be initialed to empty string\n",
    "df['is_motive'] = ''\n",
    "df['is_useful'] = ''\n",
    "\n",
    "# save df to a csv file\n",
    "outfilename = filename.replace('.json', '.csv')\n",
    "df.to_csv(outfilename, index=False)"
   ]
  },
  {
   "cell_type": "code",
   "execution_count": 8,
   "id": "be5e4520",
   "metadata": {},
   "outputs": [
    {
     "data": {
      "text/html": [
       "<div>\n",
       "<style scoped>\n",
       "    .dataframe tbody tr th:only-of-type {\n",
       "        vertical-align: middle;\n",
       "    }\n",
       "\n",
       "    .dataframe tbody tr th {\n",
       "        vertical-align: top;\n",
       "    }\n",
       "\n",
       "    .dataframe thead th {\n",
       "        text-align: right;\n",
       "    }\n",
       "</style>\n",
       "<table border=\"1\" class=\"dataframe\">\n",
       "  <thead>\n",
       "    <tr style=\"text-align: right;\">\n",
       "      <th></th>\n",
       "      <th>chunk_id</th>\n",
       "      <th>passage</th>\n",
       "      <th>motive_yn</th>\n",
       "      <th>motive</th>\n",
       "      <th>character</th>\n",
       "      <th>behavior</th>\n",
       "      <th>is_motive</th>\n",
       "      <th>is_useful</th>\n",
       "    </tr>\n",
       "  </thead>\n",
       "  <tbody>\n",
       "    <tr>\n",
       "      <th>0</th>\n",
       "      <td>0</td>\n",
       "      <td>﻿The Project Gutenberg eBook of Simon\\n    \\nT...</td>\n",
       "      <td>n</td>\n",
       "      <td></td>\n",
       "      <td></td>\n",
       "      <td></td>\n",
       "      <td></td>\n",
       "      <td></td>\n",
       "    </tr>\n",
       "    <tr>\n",
       "      <th>1</th>\n",
       "      <td>1</td>\n",
       "      <td>The Yarn                                      ...</td>\n",
       "      <td>y</td>\n",
       "      <td>singularly strong inclination for solitude</td>\n",
       "      <td>the solitary passenger</td>\n",
       "      <td>He moved to an empty carriage and chose a comp...</td>\n",
       "      <td></td>\n",
       "      <td></td>\n",
       "    </tr>\n",
       "    <tr>\n",
       "      <th>2</th>\n",
       "      <td>2</td>\n",
       "      <td>Even as they were slowing down, he fell\\non hi...</td>\n",
       "      <td>n</td>\n",
       "      <td></td>\n",
       "      <td></td>\n",
       "      <td></td>\n",
       "      <td></td>\n",
       "      <td></td>\n",
       "    </tr>\n",
       "    <tr>\n",
       "      <th>3</th>\n",
       "      <td>3</td>\n",
       "      <td>\"It doesn't seem to have changed much,\" said t...</td>\n",
       "      <td>y</td>\n",
       "      <td>very thoughtfully</td>\n",
       "      <td>Mr. Rattar</td>\n",
       "      <td>He stood for a minute or two at the window gaz...</td>\n",
       "      <td></td>\n",
       "      <td></td>\n",
       "    </tr>\n",
       "    <tr>\n",
       "      <th>4</th>\n",
       "      <td>4</td>\n",
       "      <td>Professionally, he was lawyer to several of th...</td>\n",
       "      <td>n</td>\n",
       "      <td></td>\n",
       "      <td></td>\n",
       "      <td></td>\n",
       "      <td></td>\n",
       "      <td></td>\n",
       "    </tr>\n",
       "  </tbody>\n",
       "</table>\n",
       "</div>"
      ],
      "text/plain": [
       "   chunk_id                                            passage motive_yn  \\\n",
       "0         0  ﻿The Project Gutenberg eBook of Simon\\n    \\nT...         n   \n",
       "1         1  The Yarn                                      ...         y   \n",
       "2         2  Even as they were slowing down, he fell\\non hi...         n   \n",
       "3         3  \"It doesn't seem to have changed much,\" said t...         y   \n",
       "4         4  Professionally, he was lawyer to several of th...         n   \n",
       "\n",
       "                                       motive               character  \\\n",
       "0                                                                       \n",
       "1  singularly strong inclination for solitude  the solitary passenger   \n",
       "2                                                                       \n",
       "3                           very thoughtfully              Mr. Rattar   \n",
       "4                                                                       \n",
       "\n",
       "                                            behavior is_motive is_useful  \n",
       "0                                                                         \n",
       "1  He moved to an empty carriage and chose a comp...                      \n",
       "2                                                                         \n",
       "3  He stood for a minute or two at the window gaz...                      \n",
       "4                                                                         "
      ]
     },
     "execution_count": 8,
     "metadata": {},
     "output_type": "execute_result"
    }
   ],
   "source": [
    "df.head()"
   ]
  },
  {
   "cell_type": "code",
   "execution_count": null,
   "id": "f76281ab",
   "metadata": {},
   "outputs": [
    {
     "name": "stdout",
     "output_type": "stream",
     "text": [
      "   motive_yn  is_motive  is_useful\n",
      "n         25         10         16\n",
      "y         25         15          9\n",
      "   motive_yn  is_motive  is_useful\n",
      "n         26         19         22\n",
      "y         24          5          2\n"
     ]
    }
   ],
   "source": [
    "# Read in both '26306-motive-analysis.csv' and 'qwen26306-motive-analysis.csv'\n",
    "\n",
    "# for each file, count the number of ys in three columns: 'motive_yn', 'is_motive', 'is_useful'\n",
    "df1 = pd.read_csv('26306-motive-analysis.csv')\n",
    "df2 = pd.read_csv('qwen26306-motive-analysis.csv')\n",
    "\n",
    "# limit each file to its first 16 rows\n",
    "# df1 = df1.head(16)\n",
    "# df2 = df2.head(16)\n",
    "\n",
    "print(df1[['motive_yn', 'is_motive', 'is_useful']].apply(pd.Series.value_counts))\n",
    "print(df2[['motive_yn', 'is_motive', 'is_useful']].apply(pd.Series.value_counts))\n",
    "\n",
    "# save df1 as 'gptoss-26306a-motive-analysis.csv'\n",
    "# # df1.to_csv('gptoss-26306a-motive-analysis.csv', index=False)\n",
    "# save df2 as 'qwen-26306a-motive-analysis.csv'\n",
    "# df2.to_csv('qwen-26306a-motive-analysis.csv', index=False)"
   ]
  },
  {
   "cell_type": "code",
   "execution_count": 19,
   "id": "651aa291",
   "metadata": {},
   "outputs": [
    {
     "name": "stdout",
     "output_type": "stream",
     "text": [
      "Chi-square test p-value: 0.012496088398200007\n",
      "The distributions are significantly different.\n",
      "           gptoss  qwen\n",
      "is_motive              \n",
      "n              10    19\n",
      "y              15     5\n"
     ]
    }
   ],
   "source": [
    "#Run a chi-square test on is_motive value_counts in both files\n",
    "# to determine if the y/n distribution is significantly different between the two models\n",
    "from scipy.stats import chi2_contingency\n",
    "contingency_table = pd.DataFrame({\n",
    "    'gptoss': df1['is_motive'].value_counts(),\n",
    "    'qwen': df2['is_motive'].value_counts()\n",
    "}).fillna(0)\n",
    "chi2, p, dof, ex = chi2_contingency(contingency_table)\n",
    "print(f'Chi-square test p-value: {p}')\n",
    "# if p < 0.05, then the distributions are significantly different\n",
    "if p < 0.05:\n",
    "    print('The distributions are significantly different.')\n",
    "else:\n",
    "    print('The distributions are not significantly different.')\n",
    "# print the contingency table\n",
    "print(contingency_table)"
   ]
  },
  {
   "cell_type": "code",
   "execution_count": 20,
   "id": "c569af56",
   "metadata": {},
   "outputs": [
    {
     "name": "stdout",
     "output_type": "stream",
     "text": [
      "Chi-square test p-value for is_useful: 0.047946986604986114\n",
      "The distributions for is_useful are significantly different.\n",
      "           gptoss  qwen\n",
      "is_useful              \n",
      "n              16    22\n",
      "y               9     2\n"
     ]
    }
   ],
   "source": [
    "# run the same chi-square test on is_useful value counts in both files\n",
    "contingency_table_useful = pd.DataFrame({\n",
    "    'gptoss': df1['is_useful'].value_counts(),\n",
    "    'qwen': df2['is_useful'].value_counts()\n",
    "}).fillna(0)\n",
    "chi2_useful, p_useful, dof_useful, ex_useful = chi2_contingency(contingency_table_useful)\n",
    "print(f'Chi-square test p-value for is_useful: {p_useful}')\n",
    "# if p < 0.05, then the distributions are significantly different\n",
    "if p_useful < 0.05:\n",
    "    print('The distributions for is_useful are significantly different.')\n",
    "else:\n",
    "    print('The distributions for is_useful are not significantly different.')\n",
    "# print the contingency table\n",
    "print(contingency_table_useful)"
   ]
  },
  {
   "cell_type": "code",
   "execution_count": 21,
   "id": "728f64ff",
   "metadata": {},
   "outputs": [
    {
     "name": "stdout",
     "output_type": "stream",
     "text": [
      "motive_yn\n",
      "True     33\n",
      "False    17\n",
      "Name: count, dtype: int64\n"
     ]
    }
   ],
   "source": [
    "# comparing the motive_yn column in both files\n",
    "# we ask: do they have y and n in the same places?\n",
    "# this is not a question about value counts, or a\n",
    "# chi-square test, but rather a direct comparison of the two columns\n",
    "comparison = df1['motive_yn'] == df2['motive_yn']\n",
    "print(comparison.value_counts())"
   ]
  }
 ],
 "metadata": {
  "kernelspec": {
   "display_name": "py310hf (3.12.1)",
   "language": "python",
   "name": "python3"
  },
  "language_info": {
   "codemirror_mode": {
    "name": "ipython",
    "version": 3
   },
   "file_extension": ".py",
   "mimetype": "text/x-python",
   "name": "python",
   "nbconvert_exporter": "python",
   "pygments_lexer": "ipython3",
   "version": "3.12.1"
  }
 },
 "nbformat": 4,
 "nbformat_minor": 5
}
