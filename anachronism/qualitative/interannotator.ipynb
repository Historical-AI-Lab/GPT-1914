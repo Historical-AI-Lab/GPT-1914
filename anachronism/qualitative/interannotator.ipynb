{
 "cells": [
  {
   "cell_type": "markdown",
   "id": "92f05a9d-bc97-4acf-a7a0-4c0103e1c4f4",
   "metadata": {},
   "source": [
    "# Interannotator agreement\n",
    "\n",
    "Basic work to calculate interannotator agreement on 1914 QA task."
   ]
  },
  {
   "cell_type": "code",
   "execution_count": 1,
   "id": "7711588b-3b08-4354-9223-66f6705c6b9f",
   "metadata": {},
   "outputs": [],
   "source": [
    "import krippendorff # https://github.com/pln-fing-udelar/fast-krippendorff\n",
    "import numpy  as np\n",
    "import pandas as pd"
   ]
  },
  {
   "cell_type": "code",
   "execution_count": 2,
   "id": "dbc4d73d-860f-4017-8e26-ff4b86ab38eb",
   "metadata": {},
   "outputs": [],
   "source": [
    "ted = pd.read_json(\n",
    "    '4oBigUntunedJudged.json'\n",
    ")"
   ]
  },
  {
   "cell_type": "code",
   "execution_count": 3,
   "id": "fa660ac6-7910-4fa8-a4f1-6728fa8f5277",
   "metadata": {},
   "outputs": [],
   "source": [
    "def find_target_text(text, df=ted, col='user'):\n",
    "    '''Find columns Ted's gold data that match given text.'''\n",
    "    return df.loc[df[col].apply(lambda x: np.any([text.lower() in i.lower() for i in x]))]"
   ]
  },
  {
   "cell_type": "code",
   "execution_count": 4,
   "id": "0e2d8597-b8c5-421d-a80e-df42d18b7ac7",
   "metadata": {},
   "outputs": [],
   "source": [
    "excel = pd.read_excel(\n",
    "    'questions_with_answers.xlsm'\n",
    ")"
   ]
  },
  {
   "cell_type": "code",
   "execution_count": 5,
   "id": "2f6543ab-b152-4dd4-871f-a9b81574262c",
   "metadata": {},
   "outputs": [],
   "source": [
    "# match entries across datasets\n",
    "idx_pairs = []\n",
    "for excel_idx in excel.index:\n",
    "    excel_text = excel.at[excel_idx, 'user']\n",
    "    ted_row = find_target_text(excel_text)\n",
    "    if len(ted_row) == 1:\n",
    "        idx_pairs.append((excel_idx, ted_row.index[0]))"
   ]
  },
  {
   "cell_type": "code",
   "execution_count": 6,
   "id": "59edcc96-cffe-4cc9-b047-d847f6837c46",
   "metadata": {},
   "outputs": [],
   "source": [
    "# combine labels\n",
    "labeled_answers = pd.concat(\n",
    "    [\n",
    "        excel.loc[\n",
    "            list(list(zip(*idx_pairs))[0]), \n",
    "            ['user', '4omini-raw-ok', '4omini-ft-ok', '4obig-ok']\n",
    "        ].reset_index(drop=True),\n",
    "        ted.loc[\n",
    "            list(list(zip(*idx_pairs))[1]), \n",
    "            ['plausibly1914', 'user']\n",
    "        ].reset_index(drop=True)\n",
    "    ],\n",
    "    axis='columns',\n",
    ").dropna()"
   ]
  },
  {
   "cell_type": "code",
   "execution_count": 7,
   "id": "77cb05f7-8909-42a7-b6a6-7e9c16b8cfda",
   "metadata": {},
   "outputs": [
    {
     "name": "stdout",
     "output_type": "stream",
     "text": [
      "Labeled answers:  25\n",
      "\n",
      "Pass rates:\n",
      "  4omini-raw-ok:  10 (40.0%)\n",
      "  4omini-ft-ok :  19 (76.0%)\n",
      "  4obig-ok     :  14 (56.0%)\n",
      "  plausibly1914:  11 (44.0%)\n",
      "IRR (Krippendorff's alpha; MW/TU on 4obig): 0.294\n"
     ]
    }
   ],
   "source": [
    "# stats and IRR/IAA value\n",
    "print('Labeled answers:', f'{len(labeled_answers):3}')\n",
    "\n",
    "print('\\nPass rates:')\n",
    "for col in ['4omini-raw-ok', '4omini-ft-ok', '4obig-ok', 'plausibly1914']:\n",
    "    print(f'  {col:13}: {labeled_answers[col].sum():3} ({round(labeled_answers[col].sum()/len(labeled_answers)*100,1)}%)')\n",
    "\n",
    "irr = krippendorff.alpha(labeled_answers[['4obig-ok', 'plausibly1914']].astype(int).T)\n",
    "print(f\"IRR (Krippendorff's alpha; MW/TU on 4obig): {round(irr, 3)}\")"
   ]
  },
  {
   "cell_type": "markdown",
   "id": "cb58b9a9-b61f-47be-8285-c9e52b24d19d",
   "metadata": {},
   "source": [
    "IRR interpretation: Generally want alpha > 0.67, [per Krippendoff](https://www.k-alpha.org/methodological-notes)."
   ]
  },
  {
   "cell_type": "code",
   "execution_count": null,
   "id": "083fbe8d-222f-4488-b450-38d802c7c342",
   "metadata": {},
   "outputs": [],
   "source": []
  }
 ],
 "metadata": {
  "kernelspec": {
   "display_name": "Python 3 (ipykernel)",
   "language": "python",
   "name": "python3"
  },
  "language_info": {
   "codemirror_mode": {
    "name": "ipython",
    "version": 3
   },
   "file_extension": ".py",
   "mimetype": "text/x-python",
   "name": "python",
   "nbconvert_exporter": "python",
   "pygments_lexer": "ipython3",
   "version": "3.11.0"
  }
 },
 "nbformat": 4,
 "nbformat_minor": 5
}
