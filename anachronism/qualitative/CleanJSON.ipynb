{
 "cells": [
  {
   "cell_type": "markdown",
   "metadata": {},
   "source": [
    "# Clean json strings\n",
    "\n",
    "A json file contains many strings in the \"assistant\" fields that have excess spaces. For instance this\n",
    "\n",
    "{\n",
    "    \"user\": [\n",
    "      \"Vividly describe a Smilodon, or saber-toothed tiger.\"\n",
    "    ],\n",
    "    \"assistant\": [\n",
    "      \"The smilodon is an extinct cat who lived in the Americas in the Pleistocene . In size they equaled a leopard, with powerful fore-quarters and sloping back . The muzzle was short , with a big chin, and the upper jaws carried a terrible pair of saw-edged teeth, sweeping downwards like the tusks of a walrus. The main strength and weight of the animal seem concentrated in the heavy shoulders and muscular neck : the limbs , however , were stout and strong , the broad feet being furnished with retractile claws like those of a true tiger .\"\n",
    "    ],\n",
    "    \"source\": \"Animal Romances 1908\",\n",
    "    \"subj\": \"fossils\"\n",
    "  },\n",
    "\n",
    "  Should be transformed to this:\n",
    "\n",
    "  {\n",
    "    \"user\": [\n",
    "      \"Vividly describe a Smilodon, or saber-toothed tiger.\"\n",
    "    ],\n",
    "    \"assistant\": [\n",
    "      \"The smilodon is an extinct cat who lived in the Americas in the Pleistocene. In size they equaled a leopard, with powerful fore-quarters and sloping back. The muzzle was short, with a big chin, and the upper jaws carried a terrible pair of saw-edged teeth, sweeping downwards like the tusks of a walrus. The main strength and weight of the animal seem concentrated in the heavy shoulders and muscular neck: the limbs, however, were stout and strong, the broad feet being furnished with retractile claws like those of a true tiger.\"\n",
    "    ],\n",
    "    \"source\": \"Animal Romances 1908\",\n",
    "    \"subj\": \"fossils\"\n",
    "  },"
   ]
  },
  {
   "cell_type": "code",
   "execution_count": 1,
   "metadata": {},
   "outputs": [],
   "source": [
    "import json\n",
    "import os"
   ]
  },
  {
   "cell_type": "code",
   "execution_count": null,
   "metadata": {},
   "outputs": [],
   "source": [
    "input_file = 'questions.json'\n",
    "output_file = 'clean_questions.csv'\n",
    "\n",
    "def clean_a_reply(reply):\n",
    "    reply = reply.replace(' . ', '. ')\n",
    "    reply = reply.replace(' , ', ', ')\n",
    "    reply = reply.replace(' ! ', '! ')\n",
    "    reply = reply.replace(' ? ', '? ')\n",
    "    reply = reply.replace(' : ', ': ')\n",
    "    reply = reply.replace(' ; ', '; ')\n",
    "    reply = reply.replace(' ( ', ' (')\n",
    "    reply = reply.replace(' ) ', ') ')\n",
    "    return reply\n",
    "\n",
    "clean_questions = []\n",
    "\n",
    "with open(input_file, 'r') as f:\n",
    "    questions = json.load(f)\n",
    "\n",
    "for question in questions:\n",
    "    assistant_replies = question['assistant']\n",
    "    clean_replies = []\n",
    "    for reply in assistant_replies:\n",
    "        clean_replies.append(clean_a_reply(reply))\n",
    "    question['assistant'] = clean_replies\n",
    "    clean_questions.append(question)\n",
    "\n",
    "with open(output_file, 'w') as f:\n",
    "    json.dump(clean_questions, f, indent=2, ensure_ascii=False)\n",
    "\n"
   ]
  }
 ],
 "metadata": {
  "kernelspec": {
   "display_name": "spacy_env",
   "language": "python",
   "name": "python3"
  },
  "language_info": {
   "codemirror_mode": {
    "name": "ipython",
    "version": 3
   },
   "file_extension": ".py",
   "mimetype": "text/x-python",
   "name": "python",
   "nbconvert_exporter": "python",
   "pygments_lexer": "ipython3",
   "version": "3.12.6"
  }
 },
 "nbformat": 4,
 "nbformat_minor": 2
}
